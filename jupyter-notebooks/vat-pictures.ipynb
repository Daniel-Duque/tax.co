{
 "cells": [
  {
   "cell_type": "code",
   "execution_count": 3,
   "metadata": {},
   "outputs": [],
   "source": [
    "# PITFALL: Due to the magic %matplotlib command, Jupyter cannot\n",
    "  # execute this using the standard exec-open-read idiom.\n",
    "  # Instead, just copy it into the notebook.\n",
    "\n",
    "%matplotlib inline\n",
    "  # enable the previous line if calling from Jupyter\n",
    "import matplotlib\n",
    "# matplotlib.use('Agg')\n",
    "  # enable the previous line if calling from the (non-gui) shell\n",
    "import matplotlib.pyplot as plt"
   ]
  },
  {
   "cell_type": "code",
   "execution_count": 2,
   "metadata": {},
   "outputs": [],
   "source": [
    "import sys\n",
    "import os\n",
    "\n",
    "import numpy as np\n",
    "import pandas as pd\n",
    "from pandas.api.types import CategoricalDtype\n",
    "\n",
    "import python.util as util\n",
    "import python.datafiles as datafiles\n",
    "import python.vat.files as vatfiles\n",
    "import python.vat.output_io as oio\n",
    "import python.draw.util as draw"
   ]
  },
  {
   "cell_type": "code",
   "execution_count": 4,
   "metadata": {},
   "outputs": [],
   "source": [
    "subsample = 1\n",
    "vat_pics_dir = \"output/vat-pics/recip-\" + str(subsample) + \"/\"\n",
    "\n",
    "households =                  \\\n",
    "    oio.readStage( subsample, '/6.households' )\n",
    "households_decile_summary =   \\\n",
    "    oio.readStage( subsample, '/9.households_decile_summary')\n",
    "households_w_income =                \\\n",
    "    oio.readStage( subsample, '/7.households_w_income')\n",
    "households_w_income_decile_summary = \\\n",
    "    oio.readStage( subsample, '/8.households_w_income_decile_summary')\n",
    "people = oio.readStage( subsample, '/5.person-demog-expenditures')\n",
    "#purchases = oio.readStage( subsample, '/2.purchases,prices,taxes')"
   ]
  }
 ],
 "metadata": {
  "kernelspec": {
   "display_name": "Python 3",
   "language": "python",
   "name": "python3"
  },
  "language_info": {
   "codemirror_mode": {
    "name": "ipython",
    "version": 3
   },
   "file_extension": ".py",
   "mimetype": "text/x-python",
   "name": "python",
   "nbconvert_exporter": "python",
   "pygments_lexer": "ipython3",
   "version": "3.7.5"
  }
 },
 "nbformat": 4,
 "nbformat_minor": 2
}
